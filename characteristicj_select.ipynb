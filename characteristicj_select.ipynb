{
 "cells": [
  {
   "cell_type": "code",
   "execution_count": null,
   "metadata": {},
   "outputs": [],
   "source": [
    "import pandas as pd\n",
    "import numpy as np\n",
    "import statsmodels.api as sm\n",
    "def stepwise(X,y,alpha_in=0.1,alpha_out=0.15):\n",
    "    '''X为所有可能的自变量构成的DataFrame,\n",
    "      y为响应变量，\n",
    "      alpha_in为引入变量的显著性水平，\n",
    "      alpha_out为剔除变量的显著性水平'''\n",
    "    included=[]\n",
    "    while True:\n",
    "        changed=False\n",
    "        excluded=list(set(X.columns)-set(included))\n",
    "        p_val=pd.Series(index=excluded)\n",
    "        for new_column in excluded:\n",
    "            model=sm.OLS(y,sm.add_constant(X[included+[new_column]])).fit()\n",
    "            p_val[new_column]=model.pvalues[new_column]\n",
    "        min_pval=p_val.min()\n",
    "        #forward step\n",
    "        if min_pval < alpha_in:\n",
    "            changed=True\n",
    "            add_feature=p_val.idxmin()\n",
    "            included.append(add_feature)\n",
    "            print(\"Add {:20} with p_value   {:.6}\".format(add_feature,min_pval))\n",
    "        #backward step\n",
    "        model=sm.OLS(y,sm.add_constant(X[included])).fit()\n",
    "        p_val=model.pvalues.iloc[1:]\n",
    "        max_pval=p_val.max()\n",
    "        if max_pval > alpha_out:\n",
    "            changed=True\n",
    "            drop_feature=p_val.idxmax()\n",
    "            included.remove(drop_feature)\n",
    "            print(\"Drop {:20} with p_value   {:.6}\".format(drop_feature,max_pval))\n",
    "        if not changed:\n",
    "            break\n",
    "    return included\n"
   ]
  },
  {
   "cell_type": "code",
   "execution_count": null,
   "metadata": {},
   "outputs": [],
   "source": [
    "#根据最大调整R方前向逐步回选模型\n",
    "def  forward_selection(X,y):\n",
    "    included=[]\n",
    "    current_R,best_R=0.0,0.0\n",
    "    while True:\n",
    "        changed=False\n",
    "        excluded=list(set(X.columns)-set(included))\n",
    "        adj_R=pd.Series(index=excluded)\n",
    "        for new_column in excluded:\n",
    "            model=sm.OLS(y,sm.add_constant(X[included+[new_column]])).fit()\n",
    "            adj_R[new_column]=model.rsquared_adj\n",
    "        best_R=adj_R.max()\n",
    "        add_feature=adj_R.idxmax()\n",
    "        if best_R > current_R:\n",
    "            changed=True\n",
    "            included.append(add_feature)\n",
    "            current_R=best_R\n",
    "            print(\"Add {}\".format(add_feature))\n",
    "        if not changed:\n",
    "            break\n",
    "    return included      \n"
   ]
  }
 ],
 "metadata": {
  "language_info": {
   "name": "python"
  }
 },
 "nbformat": 4,
 "nbformat_minor": 2
}
