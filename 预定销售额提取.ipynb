{
 "cells": [
  {
   "cell_type": "code",
   "execution_count": 6,
   "id": "f8fbad6e-6540-464b-b911-3eba68eca953",
   "metadata": {},
   "outputs": [
    {
     "name": "stdout",
     "output_type": "stream",
     "text": [
      "预期销售额已计算并保存到 D:/桌面/CUMCM2024Problems/C题/预期销售额.xlsx\n"
     ]
    }
   ],
   "source": [
    "import pandas as pd\n",
    "\n",
    "# 读取Excel文件\n",
    "file_path = 'D:/桌面/CUMCM2024Problems/C题/附件2.xlsx' # 替换为你的文件路径\n",
    "sheet1_name = '2023年的农作物种植情况'\n",
    "sheet2_name = '2023年统计的相关数据'\n",
    "\n",
    "# 读取Sheet1和Sheet2的数据\n",
    "df_sheet1 = pd.read_excel(file_path, sheet_name=sheet1_name)\n",
    "df_sheet2 = pd.read_excel(file_path, sheet_name=sheet2_name)\n",
    "\n",
    "# 确保两个表中都有'作物名称'列\n",
    "if '作物名称' not in df_sheet1.columns or '作物名称' not in df_sheet2.columns:\n",
    "    raise ValueError(\"'作物名称'列不存在于Sheet1或Sheet2中\")\n",
    "\n",
    "# 合并两个表的数据，根据'作物名称'列进行合并\n",
    "merged_df = pd.merge(df_sheet1, df_sheet2, on='作物名称', how='inner')\n",
    "\n",
    "# 计算预期销售额\n",
    "merged_df['预期销售额'] = merged_df['种植面积/亩'] * merged_df['亩产量/斤']\n",
    "\n",
    "# 选择需要的列\n",
    "result_df = merged_df[['作物名称', '种植面积/亩', '亩产量/斤', '预期销售额']]\n",
    "\n",
    "# 输出结果到新的Excel文件\n",
    "output_file_path = 'D:/桌面/CUMCM2024Problems/C题/预期销售额.xlsx'\n",
    "result_df.to_excel(output_file_path, index=False)\n",
    "\n",
    "print(f\"预期销售额已计算并保存到 {output_file_path}\")"
   ]
  }
 ],
 "metadata": {
  "kernelspec": {
   "display_name": "Python 3 (ipykernel)",
   "language": "python",
   "name": "python3"
  },
  "language_info": {
   "codemirror_mode": {
    "name": "ipython",
    "version": 3
   },
   "file_extension": ".py",
   "mimetype": "text/x-python",
   "name": "python",
   "nbconvert_exporter": "python",
   "pygments_lexer": "ipython3",
   "version": "3.10.14"
  }
 },
 "nbformat": 4,
 "nbformat_minor": 5
}
