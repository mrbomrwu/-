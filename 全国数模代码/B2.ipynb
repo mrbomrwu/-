{
 "cells": [
  {
   "cell_type": "code",
   "execution_count": 1,
   "metadata": {},
   "outputs": [
    {
     "name": "stdout",
     "output_type": "stream",
     "text": [
      "是否检测零配件1: 否\n",
      "是否检测零配件2: 否\n",
      "检测出的不合格零配件1数量: 0.0\n",
      "检测出的不合格零配件2数量: 0.0\n",
      "总成本: 0.0\n"
     ]
    }
   ],
   "source": [
    "import pulp\n",
    "\n",
    "# 定义参数\n",
    "n = 1000  # 总零配件数量\n",
    "c_d1 = 2  # 检测零配件1的成本\n",
    "c_d2 = 2  # 检测零配件2的成本\n",
    "c_r1 = 5  # 不合格零配件1的处理成本\n",
    "c_r2 = 5  # 不合格零配件2的处理成本\n",
    "p_1 = 0.1  # 零配件1的不合格率\n",
    "p_2 = 0.1  # 零配件2的不合格率\n",
    "\n",
    "# 创建线性规划问题\n",
    "prob = pulp.LpProblem(\"Inspection_Optimization\", pulp.LpMinimize)\n",
    "\n",
    "# 定义决策变量\n",
    "x1 = pulp.LpVariable('x1', cat='Binary')\n",
    "x2 = pulp.LpVariable('x2', cat='Binary')\n",
    "y1 = pulp.LpVariable('y1', lowBound=0, cat='Continuous')\n",
    "y2 = pulp.LpVariable('y2', lowBound=0, cat='Continuous')\n",
    "\n",
    "# 定义目标函数\n",
    "prob += c_d1 * x1 * n + c_d2 * x2 * n + c_r1 * y1 + c_r2 * y2\n",
    "\n",
    "# 添加约束条件\n",
    "prob += y1 == x1 * p_1 * n\n",
    "prob += y2 == x2 * p_2 * n\n",
    "\n",
    "# 求解问题\n",
    "prob.solve()\n",
    "\n",
    "# 输出结果\n",
    "print(f\"是否检测零配件1: {'是' if x1.varValue == 1 else '否'}\")\n",
    "print(f\"是否检测零配件2: {'是' if x2.varValue == 1 else '否'}\")\n",
    "print(f\"检测出的不合格零配件1数量: {y1.varValue}\")\n",
    "print(f\"检测出的不合格零配件2数量: {y2.varValue}\")\n",
    "print(f\"总成本: {pulp.value(prob.objective)}\")\n"
   ]
  }
 ],
 "metadata": {
  "kernelspec": {
   "display_name": "new_env",
   "language": "python",
   "name": "python3"
  },
  "language_info": {
   "codemirror_mode": {
    "name": "ipython",
    "version": 3
   },
   "file_extension": ".py",
   "mimetype": "text/x-python",
   "name": "python",
   "nbconvert_exporter": "python",
   "pygments_lexer": "ipython3",
   "version": "3.10.14"
  }
 },
 "nbformat": 4,
 "nbformat_minor": 2
}
