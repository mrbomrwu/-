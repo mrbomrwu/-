{
 "cells": [
  {
   "cell_type": "code",
   "execution_count": 207,
   "metadata": {},
   "outputs": [
    {
     "name": "stdout",
     "output_type": "stream",
     "text": [
      "[0, 0, 0, 1]\n",
      "34.3\n"
     ]
    }
   ],
   "source": [
    "import random\n",
    "\n",
    "\n",
    "# def rng(posibility):\n",
    "#     if random.random() < posibility:\n",
    "#         return 1\n",
    "#     else:\n",
    "#         return 0\n",
    "\n",
    "# 定义供应商和流程相关的参数\n",
    "defect_rate_1 = [0.1, 0.2, 0.1, 0.2, 0.1, 0.5]#次品率\n",
    "purchase_cost_1 = [4, 4, 4, 4, 4, 4]#购买单价\n",
    "inspection_cost_1 = [2, 2, 2, 1, 8, 2]#检测成本\n",
    "\n",
    "defect_rate_2 = [0.1, 0.2, 0.1, 0.2, 0.2, 0.05]#次品率\n",
    "purchase_cost_2 = [18, 18, 18, 18, 18, 18]#购买单价\n",
    "inspection_cost_2 = [3, 3, 3, 1, 1, 3]#检测成本\n",
    "\n",
    "assembly_cost = [6, 6, 6, 6, 6, 6]#装配成本\n",
    "inspection_cost_final = [3, 3, 3, 2, 2, 3]#检测成本\n",
    "market_price = [56, 56, 56, 56, 56, 56]#市场售价\n",
    "replacement_loss = [6, 6, 30, 30, 10, 10]#调换损失\n",
    "disassembly_cost = [5, 5, 5, 5, 5, 40]#拆解费用\n",
    "length = len(defect_rate_1)\n",
    "n = 20000\n",
    "\n",
    "# 定义适应度函数\n",
    "def eval_solution(individual):\n",
    "    x1, x2, y, z = individual\n",
    "    i = 2\n",
    "    # 固定的最终缺陷率（设为0.1）\n",
    "    defect_rate_final_effective = [0.1, 0.2, 0.1, 0.2, 0.1, 0.05]\n",
    "    total_cost = 0\n",
    "    Num = n * (1 - defect_rate_1[i])* (1 - defect_rate_2[i])\n",
    "\n",
    "    #零件购买成本\n",
    "    total_cost += n * purchase_cost_1[i] + n * purchase_cost_2[i]\n",
    "    # 检验成本\n",
    "    total_cost += n * x1 * inspection_cost_1[i]  # 是否选择检验供应商1的产品\n",
    "    total_cost += n * x2 * inspection_cost_2[i]  # 是否选择检验供应商2的产品\n",
    "\n",
    "    #装配成本\n",
    "    total_cost += n * assembly_cost[i]\n",
    "    # 如果进行最终检验，默认所有产品都存在缺陷\n",
    "    total_cost += n * y * inspection_cost_final[i] \n",
    "    total_cost += n * defect_rate_final_effective[i] * y * z * disassembly_cost[i]\n",
    "\n",
    "    total_cost += n * defect_rate_final_effective[i] * (replacement_loss[i] + purchase_cost_1[i] + purchase_cost_2[i] + assembly_cost[i]) if y != 1 else 0\n",
    "    total_cost += n * defect_rate_final_effective[i] * z * disassembly_cost[i] if y != 1 else 0\n",
    "    total_cost += z * (n * defect_rate_final_effective[i] * x1 * purchase_cost_1[i] + \n",
    "                                 n * defect_rate_final_effective[i] * x2 * purchase_cost_2[i]) if y != 1 else 0\n",
    "    return total_cost\n",
    "\n",
    "Num = 0\n",
    "while Num <= 10000:\n",
    "    l = []\n",
    "    count = []\n",
    "    x1 = random.randint(0, 1)\n",
    "    x2 = random.randint(0, 1)\n",
    "    y = random.randint(0, 1)\n",
    "    z = random.randint(0, 1)\n",
    "    individual = [x1, x2, y, z]\n",
    "    count.append(individual)\n",
    "    sum = eval_solution(individual)\n",
    "    l.append(sum)\n",
    "    Num += 1\n",
    "id = l.index(min(l))\n",
    "print(count[id])\n",
    "print(min(l)/20000)\n",
    "\n"
   ]
  }
 ],
 "metadata": {
  "kernelspec": {
   "display_name": "python310",
   "language": "python",
   "name": "python3"
  },
  "language_info": {
   "codemirror_mode": {
    "name": "ipython",
    "version": 3
   },
   "file_extension": ".py",
   "mimetype": "text/x-python",
   "name": "python",
   "nbconvert_exporter": "python",
   "pygments_lexer": "ipython3",
   "version": "3.10.14"
  }
 },
 "nbformat": 4,
 "nbformat_minor": 2
}
