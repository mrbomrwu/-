{
 "cells": [
  {
   "cell_type": "code",
   "execution_count": 34,
   "metadata": {},
   "outputs": [
    {
     "name": "stdout",
     "output_type": "stream",
     "text": [
      "所需样本量: 139\n",
      "拒收这批零配件\n",
      "检测到的次品数: 18\n",
      "检测到的次品率: 12.95%\n"
     ]
    }
   ],
   "source": [
    "import numpy as np\n",
    "import scipy.stats as stats\n",
    "\n",
    "# 定义参数\n",
    "confidence_level = 0.95\n",
    "p = 0.10  # 标称次品率\n",
    "E = 0.05  # 允许误差\n",
    "Z = stats.norm.ppf((1 + confidence_level) / 2)\n",
    "\n",
    "# 计算样本量\n",
    "n = (Z**2 * p * (1 - p)) / E**2\n",
    "n = int(np.ceil(n))  # 向上取整\n",
    "\n",
    "print(f\"所需样本量: {n}\")\n",
    "\n",
    "# 模拟抽样检测\n",
    "np.random.seed(42)  # 设置随机种子以便复现结果\n",
    "total_parts = 1000  # 假设总共有1000个零配件\n",
    "defective_rate = 0.12  # 实际次品率（可以调整以模拟不同情况）\n",
    "parts = np.random.choice([0, 1], size=total_parts, p=[1-defective_rate, defective_rate])\n",
    "\n",
    "# 抽样\n",
    "sample = np.random.choice(parts, size=n, replace=False)\n",
    "detected_defective = np.sum(sample)\n",
    "\n",
    "# 判断是否接收\n",
    "if detected_defective / n > p:\n",
    "    print(\"拒收这批零配件\")\n",
    "else:\n",
    "    print(\"接收这批零配件\")\n",
    "\n",
    "print(f\"检测到的次品数: {detected_defective}\")\n",
    "print(f\"检测到的次品率: {detected_defective / n:.2%}\")\n"
   ]
  },
  {
   "cell_type": "code",
   "execution_count": 64,
   "metadata": {},
   "outputs": [
    {
     "name": "stdout",
     "output_type": "stream",
     "text": [
      "所需样本量: 139\n",
      "检测到的次品数: 18\n",
      "检测到的次品率: 12.95%\n",
      "拒收这批零配件\n"
     ]
    }
   ],
   "source": [
    "import numpy as np\n",
    "import scipy.stats as stats\n",
    "\n",
    "# 定义参数\n",
    "confidence_level = 0.95  # 置信水平\n",
    "p = 0.10  # 标称次品率\n",
    "E = 0.05  # 允许误差\n",
    "Z = stats.norm.ppf((1 + confidence_level) / 2)  # 计算Z值\n",
    "\n",
    "# 计算样本量\n",
    "n = (Z**2 * p * (1 - p)) / E**2\n",
    "n = int(np.ceil(n))  # 向上取整\n",
    "\n",
    "print(f\"所需样本量: {n}\")\n",
    "\n",
    "# 模拟总零配件\n",
    "total_parts = 1000  # 假设总共有1000个零配件\n",
    "defective_rate = 0.1  # 实际次品率（可以调整以模拟不同情况）\n",
    "np.random.seed(42)  # 设置随机种子以便复现结果\n",
    "parts = np.random.choice([0, 1], size=total_parts, p=[1-defective_rate, defective_rate])\n",
    "\n",
    "# 抽样\n",
    "sample = np.random.choice(parts, size=n, replace=False)\n",
    "detected_defective = np.sum(sample)\n",
    "\n",
    "print(f\"检测到的次品数: {detected_defective}\")\n",
    "print(f\"检测到的次品率: {detected_defective / n:.2%}\")\n",
    "\n",
    "# 判断是否接收\n",
    "if detected_defective / n > p:\n",
    "    print(\"拒收这批零配件\")\n",
    "else:\n",
    "    print(\"接收这批零配件\")\n"
   ]
  }
 ],
 "metadata": {
  "kernelspec": {
   "display_name": "new_env",
   "language": "python",
   "name": "python3"
  },
  "language_info": {
   "codemirror_mode": {
    "name": "ipython",
    "version": 3
   },
   "file_extension": ".py",
   "mimetype": "text/x-python",
   "name": "python",
   "nbconvert_exporter": "python",
   "pygments_lexer": "ipython3",
   "version": "3.10.14"
  }
 },
 "nbformat": 4,
 "nbformat_minor": 2
}
